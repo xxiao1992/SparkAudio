{
 "cells": [
  {
   "cell_type": "markdown",
   "metadata": {},
   "source": [
    "# Spark Assignment\n",
    "* Xuyan Xiao, xx2226\n",
    "* Junhui Liao, jl4574"
   ]
  },
  {
   "cell_type": "markdown",
   "metadata": {},
   "source": [
    "### Data Preparation"
   ]
  },
  {
   "cell_type": "code",
   "execution_count": 1,
   "metadata": {
    "collapsed": false
   },
   "outputs": [],
   "source": [
    "# user and artist\n",
    "rawUserArtistData = sc.textFile(\"user_artist_data.txt\")\n",
    "\n",
    "# use a sample to train the model\n",
    "# weights = [.1, .9]\n",
    "# seed = 42\n",
    "# rawUserArtistData, someOtherJunk = rawUserArtistData.randomSplit(weights, seed)\n",
    "# rawUserArtistData.cache()\n",
    "\n",
    "# print rawUserArtistData.map(lambda l: float(l.split(\" \")[0])).stats()\n",
    "# print rawUserArtistData.map(lambda l: float(l.split(\" \")[1])).stats()"
   ]
  },
  {
   "cell_type": "code",
   "execution_count": 2,
   "metadata": {
    "collapsed": false
   },
   "outputs": [],
   "source": [
    "# artist data\n",
    "rawArtistData = sc.textFile(\"artist_data.txt\")\n",
    "\n",
    "def lineSplit(artist):\n",
    "    line = artist.split(\"\\t\")\n",
    "    if len(line) < 2:\n",
    "        return []\n",
    "    else:\n",
    "        try:\n",
    "            return [(int(line[0]),line[1].strip())]\n",
    "        except:\n",
    "            return []\n",
    "\n",
    "artistByID = rawArtistData.flatMap(lambda l: lineSplit(l))"
   ]
  },
  {
   "cell_type": "code",
   "execution_count": 3,
   "metadata": {
    "collapsed": true
   },
   "outputs": [],
   "source": [
    "# artist misspelled\n",
    "rawArtistAlias = sc.textFile(\"artist_alias.txt\")\n",
    "\n",
    "def lineSplitAlias(artist):\n",
    "    line = artist.split(\"\\t\",1)\n",
    "    if line[0] == \"\":\n",
    "        return []\n",
    "    else:\n",
    "        return [(int(line[0]),int(line[1]))]\n",
    "\n",
    "artistAlias = rawArtistAlias.flatMap(lambda l: lineSplitAlias(l)).collectAsMap()"
   ]
  },
  {
   "cell_type": "code",
   "execution_count": 14,
   "metadata": {
    "collapsed": false
   },
   "outputs": [
    {
     "name": "stdout",
     "output_type": "stream",
     "text": [
      "Aerosmith (unplugged)\n",
      "Aerosmith\n"
     ]
    }
   ],
   "source": [
    "print artistByID.lookup(6803336)[0]\n",
    "print artistByID.lookup(1000010)[0]"
   ]
  },
  {
   "cell_type": "markdown",
   "metadata": {},
   "source": [
    "### build the first recommendation model"
   ]
  },
  {
   "cell_type": "code",
   "execution_count": 4,
   "metadata": {
    "collapsed": false
   },
   "outputs": [
    {
     "data": {
      "text/plain": [
       "PythonRDD[7] at RDD at PythonRDD.scala:43"
      ]
     },
     "execution_count": 4,
     "metadata": {},
     "output_type": "execute_result"
    }
   ],
   "source": [
    "from pyspark.mllib.recommendation import *\n",
    "bArtistAlias = sc.broadcast(artistAlias)\n",
    "\n",
    "def trainDataConstuct(line):\n",
    "    userID, artistID, count = map(int,line.split(\" \"))\n",
    "    finalArtistID = bArtistAlias.value.get(artistID,artistID)\n",
    "    return Rating(userID, finalArtistID, count)\n",
    "\n",
    "trainData = rawUserArtistData.map(lambda l: trainDataConstuct(l))\n",
    "trainData.cache()"
   ]
  },
  {
   "cell_type": "code",
   "execution_count": 5,
   "metadata": {
    "collapsed": false
   },
   "outputs": [],
   "source": [
    "model = ALS.trainImplicit(trainData, 10, 5, 0.01)"
   ]
  },
  {
   "cell_type": "code",
   "execution_count": 11,
   "metadata": {
    "collapsed": false
   },
   "outputs": [
    {
     "name": "stdout",
     "output_type": "stream",
     "text": [
      "David Gray\n",
      "Blackalicious\n",
      "Jurassic 5\n",
      "The Saw Doctors\n",
      "Xzibit\n"
     ]
    }
   ],
   "source": [
    "# look at the first line of the model\n",
    "# ft = model.userFeatures().collect()\n",
    "# (ft[0][0],)+tuple([it for it in ft[0][1]])\n",
    "\n",
    "rawArtistsForUser = trainData.filter(lambda u: u.user == 2093760)\n",
    "\n",
    "# take a look at all the artists the given user has listened to\n",
    "# t = rawArtistsForUser.collect()\n",
    "# print t\n",
    "\n",
    "# find the unique artisits\n",
    "existingProducts = set(rawArtistsForUser.map(lambda m: int(m.product)).collect())\n",
    "\n",
    "# print existingProducts\n",
    "arts = artistByID.filter(lambda l: l[0] in existingProducts).values().collect()\n",
    "for art in arts:\n",
    "    print art"
   ]
  },
  {
   "cell_type": "code",
   "execution_count": 12,
   "metadata": {
    "collapsed": false
   },
   "outputs": [],
   "source": [
    "# recommendations = model.recommendProducts(1000002, 10) not included in pysprak 1.3.1\n",
    "recommendations = model.call(\"recommendProducts\", 2093760, 10)\n",
    "recommendedProductIDs = set([item.product for item in recommendations])"
   ]
  },
  {
   "cell_type": "code",
   "execution_count": 13,
   "metadata": {
    "collapsed": false
   },
   "outputs": [
    {
     "name": "stdout",
     "output_type": "stream",
     "text": [
      "50 Cent\n",
      "Snoop Dogg\n",
      "Nas\n",
      "Jay-Z\n",
      "Kanye West\n",
      "Dr. Dre\n",
      "2Pac\n",
      "Eminem\n",
      "Outkast\n",
      "The Roots\n"
     ]
    }
   ],
   "source": [
    "# match with the artists' names and print out\n",
    "res = artistByID.filter(lambda l: l[0] in recommendedProductIDs).values().collect()\n",
    "for artist in res:\n",
    "    print artist"
   ]
  }
 ],
 "metadata": {
  "kernelspec": {
   "display_name": "Python 2",
   "language": "python",
   "name": "python2"
  },
  "language_info": {
   "codemirror_mode": {
    "name": "ipython",
    "version": 2
   },
   "file_extension": ".py",
   "mimetype": "text/x-python",
   "name": "python",
   "nbconvert_exporter": "python",
   "pygments_lexer": "ipython2",
   "version": "2.7.6"
  }
 },
 "nbformat": 4,
 "nbformat_minor": 0
}
