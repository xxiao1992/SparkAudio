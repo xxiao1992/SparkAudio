{
 "cells": [
  {
   "cell_type": "markdown",
   "metadata": {},
   "source": [
    "# Spark Assignment\n",
    "* Xuyan Xiao, xx2226\n",
    "* Junhui Liao, jl4574"
   ]
  },
  {
   "cell_type": "markdown",
   "metadata": {},
   "source": [
    "### Data Preparation"
   ]
  },
  {
   "cell_type": "code",
   "execution_count": null,
   "metadata": {
    "collapsed": false
   },
   "outputs": [],
   "source": [
    "from pyspark import SparkContext\n",
    "sc =SparkContext()\n",
    "# user and artist\n",
    "rawUserArtistData = sc.textFile(\"user_artist_data.txt\")\n",
    "\n",
    "weights = [.1, .9]\n",
    "seed = 42\n",
    "rawUserArtistData, someOtherJunk = rawUserArtistData.randomSplit(weights, seed)\n",
    "rawUserArtistData.cache()\n",
    "\n",
    "\n",
    "# print rawUserArtistData.map(lambda l: float(l.split(\" \")[0])).stats()\n",
    "# print rawUserArtistData.map(lambda l: float(l.split(\" \")[1])).stats()"
   ]
  },
  {
   "cell_type": "code",
   "execution_count": null,
   "metadata": {
    "collapsed": false
   },
   "outputs": [],
   "source": [
    "# user = rawUserArtistData.collect()[0]\n",
    "# print user"
   ]
  },
  {
   "cell_type": "code",
   "execution_count": null,
   "metadata": {
    "collapsed": false
   },
   "outputs": [],
   "source": [
    "# artist data\n",
    "rawArtistData = sc.textFile(\"artist_data.txt\")\n",
    "\n",
    "def lineSplit(artist):\n",
    "    line = artist.split(\"\\t\")\n",
    "    if len(line) < 2:\n",
    "        return []\n",
    "    else:\n",
    "        try:\n",
    "            return [(int(line[0]),line[1].strip())]\n",
    "        except:\n",
    "            return []\n",
    "\n",
    "artistByID = dict(rawArtistData.flatMap(lambda l: lineSplit(l)).collect())"
   ]
  },
  {
   "cell_type": "code",
   "execution_count": null,
   "metadata": {
    "collapsed": false
   },
   "outputs": [],
   "source": [
    "# artist misspelled\n",
    "rawArtistAlias = sc.textFile(\"artist_alias.txt\")\n",
    "\n",
    "def lineSplitAlias(artist):\n",
    "    line = artist.split(\"\\t\",1)\n",
    "    if line[0] == \"\":\n",
    "        return []\n",
    "    else:\n",
    "        return [(int(line[0]),int(line[1]))]\n",
    "\n",
    "artistAlias = rawArtistAlias.flatMap(lambda l: lineSplitAlias(l)).collectAsMap()\n",
    "\n",
    "\n",
    "print artistByID[6803336]\n",
    "print artistByID[1000010]"
   ]
  },
  {
   "cell_type": "markdown",
   "metadata": {},
   "source": [
    "### build the first recommendation model"
   ]
  },
  {
   "cell_type": "code",
   "execution_count": null,
   "metadata": {
    "collapsed": false
   },
   "outputs": [],
   "source": [
    "from pyspark.mllib.recommendation import *\n",
    "bArtistAlias = sc.broadcast(artistAlias)\n",
    "\n",
    "def trainDataConstuct(line):\n",
    "    userID, artistID, count = map(int,line.split(\" \"))\n",
    "    finalArtistID = bArtistAlias.value.get(artistID,artistID)\n",
    "    return Rating(userID, finalArtistID, count)\n",
    "\n",
    "trainData = rawUserArtistData.map(lambda l: trainDataConstuct(l))\n",
    "trainData.cache()"
   ]
  },
  {
   "cell_type": "code",
   "execution_count": null,
   "metadata": {
    "collapsed": false
   },
   "outputs": [],
   "source": [
    "model = ALS.trainImplicit(trainData, 10, 5, 0.01)"
   ]
  },
  {
   "cell_type": "code",
   "execution_count": null,
   "metadata": {
    "collapsed": false
   },
   "outputs": [],
   "source": [
    "ft = model.userFeatures().collect()\n",
    "(ft[0][0],)+tuple([it for it in ft[0][1]])"
   ]
  },
  {
   "cell_type": "code",
   "execution_count": null,
   "metadata": {
    "collapsed": false
   },
   "outputs": [],
   "source": [
    "rawArtistsForUser = trainData.filter(lambda u: u.user == 1000002)"
   ]
  },
  {
   "cell_type": "code",
   "execution_count": null,
   "metadata": {
    "collapsed": false
   },
   "outputs": [],
   "source": [
    "t = rawArtistsForUser.collect()"
   ]
  },
  {
   "cell_type": "code",
   "execution_count": null,
   "metadata": {
    "collapsed": true
   },
   "outputs": [],
   "source": [
    "existingProducts = rawArtistsForUser.filter(lambda l: bArtistAlias.value.get(artistID,artistID))\\\n",
    "                                    .map(lambda m: )"
   ]
  },
  {
   "cell_type": "code",
   "execution_count": null,
   "metadata": {
    "collapsed": true
   },
   "outputs": [],
   "source": []
  }
 ],
 "metadata": {
  "kernelspec": {
   "display_name": "Python 2",
   "language": "python",
   "name": "python2"
  },
  "language_info": {
   "codemirror_mode": {
    "name": "ipython",
    "version": 2
   },
   "file_extension": ".py",
   "mimetype": "text/x-python",
   "name": "python",
   "nbconvert_exporter": "python",
   "pygments_lexer": "ipython2",
   "version": "2.7.6"
  }
 },
 "nbformat": 4,
 "nbformat_minor": 0
}
